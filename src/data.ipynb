{
 "cells": [
  {
   "cell_type": "code",
   "execution_count": 2,
   "metadata": {},
   "outputs": [],
   "source": [
    "import pandas as pd"
   ]
  },
  {
   "cell_type": "code",
   "execution_count": 7,
   "metadata": {},
   "outputs": [
    {
     "data": {
      "text/plain": [
       "<bound method NDFrame.head of        Trial 1:0back  Trial 2:2back  Trial 3:3back  Trial 4:2back  \\\n",
       "0              4.038          4.083          6.786          6.736   \n",
       "1              4.040          4.082          6.785          6.737   \n",
       "2              4.041          4.081          6.785          6.738   \n",
       "3              4.042          4.081          6.785          6.737   \n",
       "4              4.043          4.082          6.785          6.736   \n",
       "...              ...            ...            ...            ...   \n",
       "76795          2.205          4.733          6.718          5.522   \n",
       "76796          2.206          4.733          6.717          5.522   \n",
       "76797          2.205          4.734          6.717          5.523   \n",
       "76798          2.205          4.734          6.717          5.523   \n",
       "76799          2.205          4.733          6.717          5.523   \n",
       "\n",
       "       Trial 5:3back  Trial 6:0back  \n",
       "0              6.524          6.964  \n",
       "1              6.523          6.967  \n",
       "2              6.524          6.969  \n",
       "3              6.524          6.971  \n",
       "4              6.523          6.972  \n",
       "...              ...            ...  \n",
       "76795          6.307          4.158  \n",
       "76796          6.307          4.157  \n",
       "76797          6.307          4.157  \n",
       "76798          6.307          4.157  \n",
       "76799          6.307          4.158  \n",
       "\n",
       "[76800 rows x 6 columns]>"
      ]
     },
     "execution_count": 7,
     "metadata": {},
     "output_type": "execute_result"
    }
   ],
   "source": [
    "data = pd.read_csv('data/inf_gsr.csv')\n",
    "data.head"
   ]
  },
  {
   "cell_type": "code",
   "execution_count": 4,
   "metadata": {},
   "outputs": [
    {
     "name": "stdout",
     "output_type": "stream",
     "text": [
      "0        4.038\n",
      "1        4.040\n",
      "2        4.041\n",
      "3        4.042\n",
      "4        4.043\n",
      "         ...  \n",
      "76795    2.205\n",
      "76796    2.206\n",
      "76797    2.205\n",
      "76798    2.205\n",
      "76799    2.205\n",
      "Name: Trial 1:0back, Length: 76800, dtype: float64\n"
     ]
    }
   ],
   "source": [
    "print(data['Trial 1:0back'])"
   ]
  },
  {
   "cell_type": "code",
   "execution_count": 6,
   "metadata": {},
   "outputs": [],
   "source": [
    "pd.set_option('display.max_columns', None)\n",
    "c1 = data['Trial 1:0back'].values\n",
    "\n",
    "with open('c1.csv', 'w') as ofile:\n",
    "    for x in c1:\n",
    "        ofile.write(str(x))\n",
    "        ofile.write('\\n')\n",
    "\n",
    "with open('c2.csv', 'w') as ofile:\n",
    "    for x in data['Trial 2:2back']:\n",
    "        ofile.write(str(x))\n",
    "        ofile.write('\\n')\n"
   ]
  },
  {
   "cell_type": "code",
   "execution_count": null,
   "metadata": {},
   "outputs": [],
   "source": []
  }
 ],
 "metadata": {
  "kernelspec": {
   "display_name": "Python 3.10.6 ('cvxEDA')",
   "language": "python",
   "name": "python3"
  },
  "language_info": {
   "codemirror_mode": {
    "name": "ipython",
    "version": 3
   },
   "file_extension": ".py",
   "mimetype": "text/x-python",
   "name": "python",
   "nbconvert_exporter": "python",
   "pygments_lexer": "ipython3",
   "version": "3.10.6"
  },
  "orig_nbformat": 4,
  "vscode": {
   "interpreter": {
    "hash": "83730d146aa64fcbfc3de92b060b339fd209c3d7187d3831a01a2e715b229354"
   }
  }
 },
 "nbformat": 4,
 "nbformat_minor": 2
}
